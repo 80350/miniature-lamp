{
  "cells": [
    {
      "cell_type": "markdown",
      "metadata": {
        "id": "UKg34WlIec7N"
      },
      "source": [
        "## **Basic Level:**"
      ]
    },
    {
      "cell_type": "markdown",
      "metadata": {
        "id": "P0-oKn-vein7"
      },
      "source": [
        "## 1. Write a Python program to print the numbers from 1 to 10 using a `for` loop."
      ]
    },
    {
      "cell_type": "code",
      "execution_count": null,
      "metadata": {
        "colab": {
          "base_uri": "https://localhost:8080/"
        },
        "id": "apI-3urwdx-p",
        "outputId": "1ab4ed4d-c5a0-4e19-a8b8-84799818a9b1"
      },
      "outputs": [
        {
          "name": "stdout",
          "output_type": "stream",
          "text": [
            "1\n",
            "2\n",
            "3\n",
            "4\n",
            "5\n",
            "6\n",
            "7\n",
            "8\n",
            "9\n",
            "10\n"
          ]
        }
      ],
      "source": [
        "# by using for loop\n",
        "\n",
        "for i in range(1,11):\n",
        "  print(i)"
      ]
    },
    {
      "cell_type": "markdown",
      "metadata": {
        "id": "OA1JGnkYfGgj"
      },
      "source": [
        "## 2. Create a program that calculates the sum of all numbers in a list using a `for` loop."
      ]
    },
    {
      "cell_type": "code",
      "execution_count": null,
      "metadata": {
        "colab": {
          "base_uri": "https://localhost:8080/"
        },
        "id": "PzdTs1xYh9N0",
        "outputId": "b406d34b-1a3e-405b-cc87-ed92fecb3363"
      },
      "outputs": [
        {
          "name": "stdout",
          "output_type": "stream",
          "text": [
            "how many numbers5\n",
            "enter the number1\n",
            "sum of numbers in list: 1\n",
            "enter the number2\n",
            "sum of numbers in list: 3\n",
            "enter the number3\n",
            "sum of numbers in list: 6\n",
            "enter the number4\n",
            "sum of numbers in list: 10\n",
            "enter the number4\n",
            "sum of numbers in list: 14\n"
          ]
        }
      ],
      "source": [
        "l = []\n",
        "\n",
        "num = int(input('how many numbers'))\n",
        "\n",
        "for i in range (num):\n",
        "\n",
        "  numbers = int(input('enter the number'))\n",
        "\n",
        "  l.append(numbers)\n",
        "\n",
        "  print('sum of numbers in list:',sum(l))"
      ]
    },
    {
      "cell_type": "markdown",
      "metadata": {
        "id": "Af7gUMZTkBSP"
      },
      "source": [
        "## 3. Write a program to print the characters of a string in reverse order using a `for` loop."
      ]
    },
    {
      "cell_type": "code",
      "execution_count": null,
      "metadata": {
        "colab": {
          "base_uri": "https://localhost:8080/"
        },
        "id": "gAOvQ5mekIUl",
        "outputId": "d8c53a3f-44f8-4027-c4d1-be9bdb18391b"
      },
      "outputs": [
        {
          "name": "stdout",
          "output_type": "stream",
          "text": [
            "s\n",
            "l\n",
            "l\n",
            "i\n",
            "k\n",
            "s\n",
            "w\n",
            "p\n"
          ]
        }
      ],
      "source": [
        "s = 'pwskills'\n",
        "\n",
        "for i in s[::-1]:\n",
        "  print(i)"
      ]
    },
    {
      "cell_type": "markdown",
      "metadata": {
        "id": "Cw2lHvmnkZ8H"
      },
      "source": [
        "## 4. Develop a program that finds the factorial of a given number using a `for` loop."
      ]
    },
    {
      "cell_type": "code",
      "execution_count": null,
      "metadata": {
        "colab": {
          "base_uri": "https://localhost:8080/"
        },
        "id": "dDnjNugokeoF",
        "outputId": "a38ff4de-8441-4385-9857-14c8c3188a07"
      },
      "outputs": [
        {
          "name": "stdout",
          "output_type": "stream",
          "text": [
            "enter the number5\n",
            "factorial of the number is: 1\n",
            "factorial of the number is: 2\n",
            "factorial of the number is: 6\n",
            "factorial of the number is: 24\n",
            "factorial of the number is: 120\n"
          ]
        }
      ],
      "source": [
        "n = int(input('enter the number'))\n",
        "\n",
        "factorial = 1\n",
        "\n",
        "if n >= 1:\n",
        "\n",
        "  for i in range(1,n+1):\n",
        "    factorial = factorial *i\n",
        "    print('factorial of the number is:',factorial)\n"
      ]
    },
    {
      "cell_type": "markdown",
      "metadata": {
        "id": "GaFrLqh-oax6"
      },
      "source": [
        "## 5. Create a program to print the multiplication table of a given number using a `for` loop."
      ]
    },
    {
      "cell_type": "code",
      "execution_count": null,
      "metadata": {
        "colab": {
          "base_uri": "https://localhost:8080/"
        },
        "id": "3Xrs4XcZof3t",
        "outputId": "5597513c-514f-4647-dde2-7c8812ee8f9f"
      },
      "outputs": [
        {
          "name": "stdout",
          "output_type": "stream",
          "text": [
            "enter the number3\n",
            "table of :\n",
            "3\n",
            "6\n",
            "9\n",
            "12\n",
            "15\n",
            "18\n",
            "21\n",
            "24\n",
            "27\n",
            "30\n"
          ]
        }
      ],
      "source": [
        "n = int(input('enter the number'))\n",
        "\n",
        "print(\"table of :\")\n",
        "\n",
        "for a in range(1,11):\n",
        "  print(n*a)\n",
        "\n",
        "\n"
      ]
    },
    {
      "cell_type": "markdown",
      "metadata": {
        "id": "v3VQxEahz_mG"
      },
      "source": [
        "## 6. Write a program that counts the number of even and odd numbers in a list using a `for` loop."
      ]
    },
    {
      "cell_type": "code",
      "execution_count": null,
      "metadata": {
        "colab": {
          "base_uri": "https://localhost:8080/"
        },
        "id": "1b-hE6821HvG",
        "outputId": "c31b3df1-3c27-48b2-fec4-19e9b00f7f4b"
      },
      "outputs": [
        {
          "name": "stdout",
          "output_type": "stream",
          "text": [
            "even numbers 2\n",
            "even numbers 4\n",
            "even numbers 6\n",
            "even numbers 2\n"
          ]
        }
      ],
      "source": [
        "l = [2,4,6,1,2,3]\n",
        "\n",
        "for i in l:\n",
        "\n",
        "\n",
        "   if  i%2 == 0:\n",
        "\n",
        "       print('even numbers' ,i)\n",
        "\n",
        "for i in l:\n",
        "\n",
        "\n"
      ]
    },
    {
      "cell_type": "markdown",
      "metadata": {
        "id": "JNPKy5hx27XE"
      },
      "source": [
        "## 7. Develop a program that prints the squares of numbers from 1 to 5 using a `for` loop."
      ]
    },
    {
      "cell_type": "code",
      "execution_count": null,
      "metadata": {
        "colab": {
          "base_uri": "https://localhost:8080/"
        },
        "id": "zI1n6W804oQ8",
        "outputId": "15fabccd-6334-4801-84d1-c6cd04a5fbd9"
      },
      "outputs": [
        {
          "name": "stdout",
          "output_type": "stream",
          "text": [
            "1\n",
            "4\n",
            "9\n",
            "16\n",
            "25\n"
          ]
        }
      ],
      "source": [
        "for i in range(1,6):\n",
        "  print(i**2)"
      ]
    },
    {
      "cell_type": "markdown",
      "metadata": {
        "id": "Aq6M6PPe5KTq"
      },
      "source": [
        "## 8. Create a program to find the length of a string without using the `len()` function."
      ]
    },
    {
      "cell_type": "code",
      "execution_count": null,
      "metadata": {
        "colab": {
          "base_uri": "https://localhost:8080/"
        },
        "id": "FaW5sGFk5Qoh",
        "outputId": "54a1a713-bb02-4ae6-de5c-a064cbb19dfc"
      },
      "outputs": [
        {
          "name": "stdout",
          "output_type": "stream",
          "text": [
            "1\n",
            "2\n",
            "3\n",
            "4\n",
            "5\n",
            "6\n",
            "7\n"
          ]
        }
      ],
      "source": [
        "s = 'pwskill'\n",
        "\n",
        "count = 0\n",
        "\n",
        "for i in s:\n",
        "\n",
        "  count += 1\n",
        "\n",
        "  print(count)"
      ]
    },
    {
      "cell_type": "markdown",
      "metadata": {
        "id": "1kDoqu8B7Tza"
      },
      "source": [
        "## 9. Write a program that calculates the average of a list of numbers using a `for` loop."
      ]
    },
    {
      "cell_type": "code",
      "execution_count": null,
      "metadata": {
        "colab": {
          "base_uri": "https://localhost:8080/"
        },
        "id": "1X0WJpbT-MwG",
        "outputId": "2458acd7-fcf9-498e-8acb-5514962499c4"
      },
      "outputs": [
        {
          "name": "stdout",
          "output_type": "stream",
          "text": [
            "the average is: 3.0\n"
          ]
        }
      ],
      "source": [
        "l = [1,2,3,4,5]\n",
        "\n",
        "sum_num = 0\n",
        "\n",
        "for num in l:\n",
        "\n",
        "    sum_num += num\n",
        "\n",
        "avg = sum_num/len(l)\n",
        "print(\"the average is:\",avg)"
      ]
    },
    {
      "cell_type": "markdown",
      "metadata": {
        "id": "Ze1UlaAK-8yw"
      },
      "source": [
        "## 10. Develop a program that prints the first `n` Fibonacci numbers using a `for` loop."
      ]
    },
    {
      "cell_type": "code",
      "execution_count": null,
      "metadata": {
        "colab": {
          "base_uri": "https://localhost:8080/"
        },
        "id": "aBohXhz1_BpJ",
        "outputId": "9bb3fb4a-00e8-4484-abfe-2fb6b28afb1a"
      },
      "outputs": [
        {
          "name": "stdout",
          "output_type": "stream",
          "text": [
            "1\n",
            "1\n",
            "2\n",
            "3\n",
            "5\n",
            "8\n",
            "13\n",
            "21\n",
            "34\n",
            "55\n"
          ]
        }
      ],
      "source": [
        "a,b = 0,1\n",
        "\n",
        "n = 10\n",
        "\n",
        "for i in range(n):\n",
        "\n",
        "  a,b = b,a + b\n",
        "  print(a)"
      ]
    },
    {
      "cell_type": "markdown",
      "metadata": {
        "id": "4fJtYsy9AEPA"
      },
      "source": [
        "# **Intermediate Level:**"
      ]
    },
    {
      "cell_type": "markdown",
      "metadata": {
        "id": "y9nf96U1AR8l"
      },
      "source": [
        "## 11. Write a program to check if a given list contains any duplicates using a `for` loop."
      ]
    },
    {
      "cell_type": "code",
      "execution_count": null,
      "metadata": {
        "colab": {
          "base_uri": "https://localhost:8080/"
        },
        "id": "OCaVdLGD8RLq",
        "outputId": "ce5544f0-2a05-4b26-c83b-5d5c853638b5"
      },
      "outputs": [
        {
          "name": "stdout",
          "output_type": "stream",
          "text": [
            "[1, 5]\n"
          ]
        }
      ],
      "source": [
        "lis = [1,2,3,4,5,1,1,5]\n",
        "\n",
        "unique_list = []\n",
        "\n",
        "duplicate_list = []\n",
        "\n",
        "for i in lis:\n",
        "  if i not in unique_list:\n",
        "    unique_list.append(i)\n",
        "  elif i not in duplicate_list:\n",
        "    duplicate_list.append(i)\n",
        "print(duplicate_list)\n"
      ]
    },
    {
      "cell_type": "markdown",
      "metadata": {
        "id": "WlcT2kYzUhYf"
      },
      "source": [
        "## 12. Create a program that prints the prime numbers in a given range using a `for` loop."
      ]
    },
    {
      "cell_type": "code",
      "execution_count": null,
      "metadata": {
        "colab": {
          "background_save": true,
          "base_uri": "https://localhost:8080/"
        },
        "id": "1gj7z9tz-W2h",
        "outputId": "a1268fee-51d3-464d-f5e9-8e8eb544368d"
      },
      "outputs": [
        {
          "name": "stdout",
          "output_type": "stream",
          "text": [
            "1\n"
          ]
        },
        {
          "ename": "NameError",
          "evalue": "ignored",
          "output_type": "error",
          "traceback": [
            "\u001b[0;31m---------------------------------------------------------------------------\u001b[0m",
            "\u001b[0;31mNameError\u001b[0m                                 Traceback (most recent call last)",
            "\u001b[0;32m<ipython-input-9-3aa44b929804>\u001b[0m in \u001b[0;36m<cell line: 1>\u001b[0;34m()\u001b[0m\n\u001b[1;32m      6\u001b[0m       \u001b[0mprint\u001b[0m\u001b[0;34m(\u001b[0m\u001b[0mi\u001b[0m\u001b[0;34m)\u001b[0m\u001b[0;34m\u001b[0m\u001b[0;34m\u001b[0m\u001b[0m\n\u001b[1;32m      7\u001b[0m      \u001b[0;32melse\u001b[0m\u001b[0;34m:\u001b[0m\u001b[0;34m\u001b[0m\u001b[0;34m\u001b[0m\u001b[0m\n\u001b[0;32m----> 8\u001b[0;31m       \u001b[0mprint\u001b[0m\u001b[0;34m(\u001b[0m\u001b[0mno\u001b[0m\u001b[0;34m)\u001b[0m\u001b[0;34m\u001b[0m\u001b[0;34m\u001b[0m\u001b[0m\n\u001b[0m\u001b[1;32m      9\u001b[0m \u001b[0mprint\u001b[0m\u001b[0;34m(\u001b[0m\u001b[0mi\u001b[0m\u001b[0;34m)\u001b[0m\u001b[0;34m\u001b[0m\u001b[0;34m\u001b[0m\u001b[0m\n\u001b[1;32m     10\u001b[0m \u001b[0;34m\u001b[0m\u001b[0m\n",
            "\u001b[0;31mNameError\u001b[0m: name 'no' is not defined"
          ]
        }
      ],
      "source": [
        "for i in range(1,11):\n",
        "\n",
        "     i > 1\n",
        "\n",
        "     if i = i/i == 1:\n",
        "      print(i)\n",
        "     else:\n",
        "      print(no)\n",
        "print(i)\n"
      ]
    },
    {
      "cell_type": "markdown",
      "metadata": {
        "id": "cFzVWriKXFu4"
      },
      "source": [
        "## 13. Develop a program that counts the number of vowels in a string using a `for` loop."
      ]
    },
    {
      "cell_type": "code",
      "execution_count": null,
      "metadata": {
        "colab": {
          "base_uri": "https://localhost:8080/"
        },
        "id": "r3DlRsdeX98M",
        "outputId": "42c48309-d69a-4242-bd51-4f1b531cab2c"
      },
      "outputs": [
        {
          "name": "stdout",
          "output_type": "stream",
          "text": [
            "No. of vowels : 2\n"
          ]
        }
      ],
      "source": [
        "# Python3 code to count vowel in\n",
        "# a string using set\n",
        "\n",
        "\n",
        "def vowel_count(str):\n",
        "\n",
        "\t# Initializing count variable to 0\n",
        "\tcount = 0\n",
        "\n",
        "\tvowel = set(\"aeiouAEIOU\")\n",
        "\tfor alphabet in str:\n",
        "\n",
        "\t\t# If alphabet is present\n",
        "\t\t# in set vowel\n",
        "\t\tif alphabet in vowel:\n",
        "\t\t\tcount = count + 1\n",
        "\n",
        "\tprint(\"No. of vowels :\", count)\n",
        "\n",
        "# Driver code\n",
        "str = \"muskan\"\n",
        "\n",
        "# Function Call\n",
        "vowel_count(str)\n"
      ]
    },
    {
      "cell_type": "markdown",
      "metadata": {
        "id": "5NBmSIH6YaqY"
      },
      "source": [
        "## 14. Write a program to find the maximum element in a 2D list using a nested `for` loop."
      ]
    },
    {
      "cell_type": "code",
      "execution_count": null,
      "metadata": {
        "colab": {
          "base_uri": "https://localhost:8080/"
        },
        "id": "7fiQvNaMYaNw",
        "outputId": "29515b7e-c724-43c1-d206-b728b40cbaac"
      },
      "outputs": [
        {
          "name": "stdout",
          "output_type": "stream",
          "text": [
            "504\n"
          ]
        }
      ],
      "source": [
        "\n",
        "\n",
        "\n",
        "def prod(lis):\n",
        "\tmaxi = 0\n",
        "\n",
        "\t# traversal in the lists\n",
        "\tfor x in lis:\n",
        "\n",
        "\t\tp = 1\n",
        "\n",
        "\t\t# traversal in list of lists\n",
        "\t\tfor i in x:\n",
        "\t\t\tp *= i\n",
        "\t\t\tmaxi = max(p, maxi)\n",
        "\treturn maxi\n",
        "\n",
        "\n",
        "# driver code\n",
        "l = [[1, 2, 3], [4, 5, 6], [7, 8, 9]]\n",
        "print(prod(l))\n"
      ]
    },
    {
      "cell_type": "markdown",
      "metadata": {
        "id": "u7F59WwPpNcS"
      },
      "source": [
        "## 15. Create a program that removes all occurrences of a specific element from a list using a `for` loop."
      ]
    },
    {
      "cell_type": "code",
      "execution_count": null,
      "metadata": {
        "colab": {
          "base_uri": "https://localhost:8080/"
        },
        "id": "DfwGD0Jpq4vG",
        "outputId": "57f1a67a-d9c2-459b-c9a1-fe295e665404"
      },
      "outputs": [
        {
          "name": "stdout",
          "output_type": "stream",
          "text": [
            "[1, 2, 3, 4, 6, 7]\n"
          ]
        }
      ],
      "source": [
        "l = [1,2,3,4,5,6,5,7]\n",
        "\n",
        "n = 5\n",
        "\n",
        "for x in l:\n",
        "\n",
        "  if x == n:\n",
        "\n",
        "     l.remove(x)\n",
        "print(l)"
      ]
    },
    {
      "cell_type": "markdown",
      "metadata": {
        "id": "2CZhP8dkvEgw"
      },
      "source": [
        "## 16. Develop a program that generates a multiplication table for numbers from 1 to 5 using a nested `for` loop."
      ]
    },
    {
      "cell_type": "code",
      "execution_count": null,
      "metadata": {
        "colab": {
          "base_uri": "https://localhost:8080/"
        },
        "id": "PBndGSDsNMaB",
        "outputId": "19c52952-ade2-46cf-8906-55142db850c5"
      },
      "outputs": [
        {
          "name": "stdout",
          "output_type": "stream",
          "text": [
            "Enter the number of which the user wants to print the multiplication table: 2\n",
            "The Multiplication Table of:  2\n",
            "2 x 1 = 2\n",
            "2 x 2 = 4\n",
            "2 x 3 = 6\n",
            "2 x 4 = 8\n",
            "2 x 5 = 10\n",
            "2 x 6 = 12\n",
            "2 x 7 = 14\n",
            "2 x 8 = 16\n",
            "2 x 9 = 18\n",
            "2 x 10 = 20\n"
          ]
        }
      ],
      "source": [
        "number = int(input (\"Enter the number of which the user wants to print the multiplication table: \"))\n",
        "# We are using \"for loop\" to iterate the multiplication 10 times\n",
        "print (\"The Multiplication Table of: \", number)\n",
        "for count in range(1, 11):\n",
        "   print (number, 'x', count, '=', number * count)"
      ]
    },
    {
      "cell_type": "markdown",
      "metadata": {
        "id": "959O7UcZNp2W"
      },
      "source": [
        "## 17. Write a program that converts a list of Fahrenheit temperatures to Celsius using a `for` loop."
      ]
    },
    {
      "cell_type": "code",
      "execution_count": null,
      "metadata": {
        "colab": {
          "base_uri": "https://localhost:8080/"
        },
        "id": "-k6j6cu6TaRN",
        "outputId": "4af10bb8-a1c6-4bca-ab29-c8ccdd67c18d"
      },
      "outputs": [
        {
          "name": "stdout",
          "output_type": "stream",
          "text": [
            "100 fahrenheit  is 37.77777777777778 degrees Celsius\n",
            "90 fahrenheit  is 32.22222222222222 degrees Celsius\n",
            "80 fahrenheit  is 26.666666666666668 degrees Celsius\n",
            "70 fahrenheit  is 21.11111111111111 degrees Celsius\n",
            "60 fahrenheit  is 15.555555555555555 degrees Celsius\n",
            "50 fahrenheit  is 10.0 degrees Celsius\n",
            "40 fahrenheit  is 4.444444444444445 degrees Celsius\n",
            "30 fahrenheit  is -1.1111111111111112 degrees Celsius\n",
            "20 fahrenheit  is -6.666666666666667 degrees Celsius\n",
            "10 fahrenheit  is -12.222222222222221 degrees Celsius\n"
          ]
        }
      ],
      "source": [
        "# prompt: 17. Write a program that converts a list of Fahrenheit temperatures to Celsius using a `for` loop.\n",
        "\n",
        "fahrenheit = [100, 90, 80, 70, 60, 50, 40, 30, 20, 10]\n",
        "\n",
        "for temperature in fahrenheit:\n",
        "  celsius = (temperature - 32) * 5 / 9\n",
        "  print(f\"{temperature} fahrenheit  is {celsius} degrees Celsius\")\n"
      ]
    },
    {
      "cell_type": "markdown",
      "metadata": {
        "id": "E25SFz47Ufeg"
      },
      "source": [
        "## 18. Create a program to print the common elements from two lists using a `for` loop."
      ]
    },
    {
      "cell_type": "code",
      "execution_count": null,
      "metadata": {
        "colab": {
          "base_uri": "https://localhost:8080/"
        },
        "id": "wIW-F8A-UoSp",
        "outputId": "6006ff97-75c4-4330-b9e7-2bfcda0fa7d6"
      },
      "outputs": [
        {
          "name": "stdout",
          "output_type": "stream",
          "text": [
            "The common elements in the two lists are: \n",
            "[5]\n"
          ]
        }
      ],
      "source": [
        "def common_member(a, b):\n",
        "\tresult = [ i for i in a if i in b]\n",
        "\treturn result\n",
        "\n",
        "a = [1, 2, 3, 4, 5]\n",
        "b = [5, 6, 7, 8, 9]\n",
        "\n",
        "print(\"The common elements in the two lists are: \")\n",
        "print(common_member(a, b))\n"
      ]
    },
    {
      "cell_type": "markdown",
      "metadata": {
        "id": "NOegvmpDlr6G"
      },
      "source": [
        "## 20. Write a program to find the greatest common divisor (GCD) of two numbers using a `for` loop."
      ]
    },
    {
      "cell_type": "code",
      "execution_count": null,
      "metadata": {
        "colab": {
          "base_uri": "https://localhost:8080/"
        },
        "id": "8ANkYjqsnBDN",
        "outputId": "e007becd-6ccb-4fb0-f5a2-93ae699484df"
      },
      "outputs": [
        {
          "name": "stdout",
          "output_type": "stream",
          "text": [
            "GCD_is 50\n"
          ]
        }
      ],
      "source": [
        "x = 50\n",
        "y = 100\n",
        "\n",
        "if x>y:\n",
        "\n",
        "  x,y = y,x\n",
        "\n",
        "for i in range(1,x+1):\n",
        "\n",
        "  x%i ==  0 and y%i == 0\n",
        "\n",
        "print ('GCD_is' , i)"
      ]
    },
    {
      "cell_type": "markdown",
      "metadata": {
        "id": "BZzzWjY9V1Pg"
      },
      "source": [
        "# Advanced Level:"
      ]
    },
    {
      "cell_type": "markdown",
      "metadata": {
        "id": "qpRExIpNV5HV"
      },
      "source": [
        "## 21. Create a program that calculates the sum of the digits of numbers in a list using a list comprehension."
      ]
    },
    {
      "cell_type": "code",
      "execution_count": null,
      "metadata": {
        "id": "JCM-CnVGV_1h"
      },
      "outputs": [],
      "source": [
        "lst = [1,2,3,4,5,6]"
      ]
    },
    {
      "cell_type": "code",
      "execution_count": null,
      "metadata": {
        "id": "0FvwNpedu64W"
      },
      "outputs": [],
      "source": [
        "a = [ sum(lst) ]"
      ]
    },
    {
      "cell_type": "code",
      "execution_count": null,
      "metadata": {
        "colab": {
          "base_uri": "https://localhost:8080/"
        },
        "id": "URDjyDbrvVUC",
        "outputId": "592d4cab-492d-4d30-9c2e-f3dd394812eb"
      },
      "outputs": [
        {
          "data": {
            "text/plain": [
              "[21]"
            ]
          },
          "execution_count": 5,
          "metadata": {},
          "output_type": "execute_result"
        }
      ],
      "source": [
        "a"
      ]
    },
    {
      "cell_type": "markdown",
      "metadata": {
        "id": "4PN3tmCzvrjz"
      },
      "source": [
        "## 22. Write a program to find the prime factors of a given number using a `for` loop and list comprehension."
      ]
    },
    {
      "cell_type": "code",
      "execution_count": null,
      "metadata": {
        "id": "gl-XkOsEvyEB"
      },
      "outputs": [],
      "source": []
    },
    {
      "cell_type": "markdown",
      "metadata": {
        "id": "TstY_RSlv4L6"
      },
      "source": [
        "## 23. Develop a program that extracts unique elements from a list and stores them in a new list using a list\n",
        "## comprehension."
      ]
    },
    {
      "cell_type": "code",
      "execution_count": null,
      "metadata": {
        "colab": {
          "base_uri": "https://localhost:8080/"
        },
        "id": "5UTlJbcGz6dq",
        "outputId": "16c582ee-af7c-48fb-de5b-d211aa8af392"
      },
      "outputs": [
        {
          "name": "stdout",
          "output_type": "stream",
          "text": [
            "List with Most unique values : [3, 4, 5, 6, 7, 8]\n"
          ]
        }
      ],
      "source": [
        "\n",
        "# List with most unique elements\n",
        "# using list comprehension + max() + set()\n",
        "\n",
        "# Initializing lists\n",
        "test_list1 = [1, 3, 4, 4, 4, 3, 3, 2, 2, 1]\n",
        "test_list2 = [1, 3, 4, 6, 7]\n",
        "test_list3 = [4, 5, 4, 3, 6, 7, 8]\n",
        "\n",
        "\n",
        "\n",
        "# List with most unique elements\n",
        "# using list comprehension + max() + set()\n",
        "res = [ele for ele in [set(test_list1), set(test_list2), set(test_list3)]\n",
        "\tif len(ele) == max([len(sub) for sub in [set(test_list1), set(test_list2), set(test_list3)]])][0]\n",
        "\n",
        "# printing result\n",
        "print (\"List with Most unique values : \" + str(list(res)))\n"
      ]
    },
    {
      "cell_type": "markdown",
      "metadata": {
        "id": "rV03My0h09Lw"
      },
      "source": [
        "## 24.create a program that generates a list of palindromic numbers upto specified limitusing a list comprehension"
      ]
    },
    {
      "cell_type": "code",
      "execution_count": null,
      "metadata": {
        "id": "AmmsLIFDyp6Q"
      },
      "outputs": [],
      "source": [
        "lst = [i for i in range(1, 424) if str(i)  [::-1] == str(i)]"
      ]
    },
    {
      "cell_type": "code",
      "execution_count": null,
      "metadata": {
        "colab": {
          "base_uri": "https://localhost:8080/"
        },
        "id": "TGb0yesx0tcm",
        "outputId": "34967d87-ec6c-48fc-cbd7-b83bbf6cf86f"
      },
      "outputs": [
        {
          "data": {
            "text/plain": [
              "[1,\n",
              " 2,\n",
              " 3,\n",
              " 4,\n",
              " 5,\n",
              " 6,\n",
              " 7,\n",
              " 8,\n",
              " 9,\n",
              " 11,\n",
              " 22,\n",
              " 33,\n",
              " 44,\n",
              " 55,\n",
              " 66,\n",
              " 77,\n",
              " 88,\n",
              " 99,\n",
              " 101,\n",
              " 111,\n",
              " 121,\n",
              " 131,\n",
              " 141,\n",
              " 151,\n",
              " 161,\n",
              " 171,\n",
              " 181,\n",
              " 191,\n",
              " 202,\n",
              " 212,\n",
              " 222,\n",
              " 232,\n",
              " 242,\n",
              " 252,\n",
              " 262,\n",
              " 272,\n",
              " 282,\n",
              " 292,\n",
              " 303,\n",
              " 313,\n",
              " 323,\n",
              " 333,\n",
              " 343,\n",
              " 353,\n",
              " 363,\n",
              " 373,\n",
              " 383,\n",
              " 393,\n",
              " 404,\n",
              " 414]"
            ]
          },
          "execution_count": 13,
          "metadata": {},
          "output_type": "execute_result"
        }
      ],
      "source": [
        "lst"
      ]
    },
    {
      "cell_type": "markdown",
      "metadata": {
        "id": "JnmSLGQFOv5d"
      },
      "source": [
        "## 25. Write a program to flatten a nested list using list comprehension."
      ]
    },
    {
      "cell_type": "code",
      "execution_count": null,
      "metadata": {
        "colab": {
          "base_uri": "https://localhost:8080/"
        },
        "id": "mSmU6zXVO32B",
        "outputId": "d34742d9-98b2-43d2-f166-6d3197d22d2b"
      },
      "outputs": [
        {
          "name": "stdout",
          "output_type": "stream",
          "text": [
            "[1, 2, 3, 4, 5, 6]\n"
          ]
        }
      ],
      "source": [
        "# Create a nested list\n",
        "nested_list = [[1, 2], [3, 4], [5, 6]]\n",
        "\n",
        "# Flatten the list using list comprehension\n",
        "flattened_list = [item for sublist in nested_list for item in sublist]\n",
        "\n",
        "# Print the flattened list\n",
        "print(flattened_list)"
      ]
    },
    {
      "cell_type": "markdown",
      "metadata": {
        "id": "cRR0g7o8GR1L"
      },
      "source": [
        "## 26. Develop a program that computes the sum of even and odd numbers in a list separately using list comprehension\n"
      ]
    },
    {
      "cell_type": "code",
      "execution_count": null,
      "metadata": {
        "colab": {
          "base_uri": "https://localhost:8080/"
        },
        "id": "LBn-KjsYQR11",
        "outputId": "c31a7bd4-25dc-45ef-e9a6-9f9b5e3db292"
      },
      "outputs": [
        {
          "name": "stdout",
          "output_type": "stream",
          "text": [
            "The sum of even numbers is: 30\n",
            "The sum of odd numbers is: 25\n"
          ]
        }
      ],
      "source": [
        "# List of numbers\n",
        "numbers = [1, 2, 3, 4, 5, 6, 7, 8, 9, 10]\n",
        "\n",
        "# Compute the sum of even numbers\n",
        "even_sum = sum([number for number in numbers if number % 2 == 0])\n",
        "\n",
        "# Compute the sum of odd numbers\n",
        "odd_sum = sum([number for number in numbers if number % 2 != 0])\n",
        "\n",
        "# Print the results\n",
        "print(\"The sum of even numbers is:\", even_sum)\n",
        "print(\"The sum of odd numbers is:\", odd_sum)"
      ]
    },
    {
      "cell_type": "markdown",
      "metadata": {
        "id": "_N1IoV4tG0qM"
      },
      "source": [
        "## 27. Create a program that generates a list of squares of odd numbers between 1 and 10 using list\n",
        "## comprehension."
      ]
    },
    {
      "cell_type": "code",
      "execution_count": null,
      "metadata": {
        "id": "AwYLkDQYG0T-"
      },
      "outputs": [],
      "source": [
        "lst = [ i**2 for i in range(1, 11, 2) ]"
      ]
    },
    {
      "cell_type": "code",
      "execution_count": null,
      "metadata": {
        "colab": {
          "base_uri": "https://localhost:8080/"
        },
        "id": "Q4zmxBTAHpX6",
        "outputId": "fb803533-0348-4327-ecd8-a57c9c77a747"
      },
      "outputs": [
        {
          "data": {
            "text/plain": [
              "[1, 9, 25, 49, 81]"
            ]
          },
          "execution_count": 6,
          "metadata": {},
          "output_type": "execute_result"
        }
      ],
      "source": [
        "lst"
      ]
    },
    {
      "cell_type": "markdown",
      "metadata": {
        "id": "ShojhQsORKwh"
      },
      "source": [
        "## 28. Write a program that combines two lists into a dictionary using list comprehension."
      ]
    },
    {
      "cell_type": "code",
      "execution_count": null,
      "metadata": {
        "colab": {
          "base_uri": "https://localhost:8080/"
        },
        "id": "rM7CzLgJTZJ7",
        "outputId": "607f31f4-25ec-43a0-bc07-3a8b839b676e"
      },
      "outputs": [
        {
          "name": "stdout",
          "output_type": "stream",
          "text": [
            "{'a': 1, 'b': 2, 'c': 3}\n"
          ]
        }
      ],
      "source": [
        "# Create two lists\n",
        "keys = ['a', 'b', 'c']\n",
        "values = [1, 2, 3]\n",
        "\n",
        "# Combine the lists into a dictionary using list comprehension\n",
        "dictionary = {key: value for key, value in zip(keys, values)}\n",
        "\n",
        "# Print the dictionary\n",
        "print(dictionary)"
      ]
    },
    {
      "cell_type": "markdown",
      "metadata": {
        "id": "qDOAxjzwTdlO"
      },
      "source": [
        "## 29. Develop a program that extracts the vowels from a string and stores them in a list using list comprehension."
      ]
    },
    {
      "cell_type": "code",
      "execution_count": null,
      "metadata": {
        "colab": {
          "base_uri": "https://localhost:8080/"
        },
        "id": "5fmgE_q2TdIP",
        "outputId": "fd4d0d09-771d-40ac-9f9c-83cfd5a64753"
      },
      "outputs": [
        {
          "name": "stdout",
          "output_type": "stream",
          "text": [
            "['i', 'u', 'a', 'a', 'a', 'i', 'e', 'e']\n"
          ]
        }
      ],
      "source": [
        "strg = 'pwskill,muskan,data science'\n",
        "\n",
        "vowels = [ i for i in strg if i in 'aeiouAEIOU']\n",
        "\n",
        "print(vowels)"
      ]
    },
    {
      "cell_type": "markdown",
      "metadata": {
        "id": "WRe-ZhPqIgPH"
      },
      "source": [
        "## 30. Create a program that removes all non-numeric characters from a list of strings using list comprehension."
      ]
    },
    {
      "cell_type": "code",
      "execution_count": null,
      "metadata": {
        "id": "EHVAKSMpMw-d"
      },
      "outputs": [],
      "source": [
        "my_list = ['23','muskan','45','pwskill','35','datascience']"
      ]
    },
    {
      "cell_type": "code",
      "execution_count": null,
      "metadata": {
        "id": "mB1InFHUMvG1"
      },
      "outputs": [],
      "source": [
        "my_list = [elem for elem in my_list if not any(c.isalpha() for c in elem)]"
      ]
    },
    {
      "cell_type": "code",
      "execution_count": null,
      "metadata": {
        "colab": {
          "base_uri": "https://localhost:8080/"
        },
        "id": "BNzWnDTCNCFd",
        "outputId": "e942aca6-3bd6-4293-8148-7b004bab5be6"
      },
      "outputs": [
        {
          "data": {
            "text/plain": [
              "['23', '45', '35']"
            ]
          },
          "execution_count": 30,
          "metadata": {},
          "output_type": "execute_result"
        }
      ],
      "source": [
        "my_list"
      ]
    },
    {
      "cell_type": "markdown",
      "metadata": {
        "id": "IQ1ntbRJaLju"
      },
      "source": [
        "# Challenge Level:"
      ]
    },
    {
      "cell_type": "markdown",
      "source": [
        "## 31. Write a program to generate a list of prime numbers using the Sieve of Eratosthenes algorithm and list\n",
        "## comprehension."
      ],
      "metadata": {
        "id": "GewC1OxU9WS4"
      }
    },
    {
      "cell_type": "code",
      "source": [
        "def sieve_of_eratosthenes(n):\n",
        "  primes = [True] * (n + 1)\n",
        "  primes[0] = primes[1] = False\n",
        "  for i in range(2, int(n ** 0.5) + 1):\n",
        "    if primes[i]:\n",
        "      for j in range(i * i, n + 1, i):\n",
        "        primes[j] = False\n",
        "  return [i for i in range(n + 1) if primes[i]]\n",
        "\n",
        "print(sieve_of_eratosthenes(100))"
      ],
      "metadata": {
        "colab": {
          "base_uri": "https://localhost:8080/"
        },
        "id": "jT5r6JEI9eAs",
        "outputId": "a2e72d11-70a1-4b68-b9b9-979a318dea5d"
      },
      "execution_count": null,
      "outputs": [
        {
          "output_type": "stream",
          "name": "stdout",
          "text": [
            "[2, 3, 5, 7, 11, 13, 17, 19, 23, 29, 31, 37, 41, 43, 47, 53, 59, 61, 67, 71, 73, 79, 83, 89, 97]\n"
          ]
        }
      ]
    },
    {
      "cell_type": "markdown",
      "source": [
        "## 32. Create a program that generates a list of all Pythagorean triplets up to a specified limit using list\n",
        "comprehension."
      ],
      "metadata": {
        "id": "znE3S4sQ9JBX"
      }
    },
    {
      "cell_type": "code",
      "source": [
        "def pythagorean_triplets(limit):\n",
        "  return [(a, b, c) for a in range(1, limit) for b in range(a, limit) for c in range(b, limit) if a ** 2 + b ** 2 == c ** 2]\n",
        "\n",
        "print(pythagorean_triplets(100))"
      ],
      "metadata": {
        "colab": {
          "base_uri": "https://localhost:8080/"
        },
        "id": "J4W7keg39PGA",
        "outputId": "23cf7ea6-b045-42e1-fc5a-b80beded0ad5"
      },
      "execution_count": null,
      "outputs": [
        {
          "output_type": "stream",
          "name": "stdout",
          "text": [
            "[(3, 4, 5), (5, 12, 13), (6, 8, 10), (7, 24, 25), (8, 15, 17), (9, 12, 15), (9, 40, 41), (10, 24, 26), (11, 60, 61), (12, 16, 20), (12, 35, 37), (13, 84, 85), (14, 48, 50), (15, 20, 25), (15, 36, 39), (16, 30, 34), (16, 63, 65), (18, 24, 30), (18, 80, 82), (20, 21, 29), (20, 48, 52), (21, 28, 35), (21, 72, 75), (24, 32, 40), (24, 45, 51), (24, 70, 74), (25, 60, 65), (27, 36, 45), (28, 45, 53), (30, 40, 50), (30, 72, 78), (32, 60, 68), (33, 44, 55), (33, 56, 65), (35, 84, 91), (36, 48, 60), (36, 77, 85), (39, 52, 65), (39, 80, 89), (40, 42, 58), (40, 75, 85), (42, 56, 70), (45, 60, 75), (48, 55, 73), (48, 64, 80), (51, 68, 85), (54, 72, 90), (57, 76, 95), (60, 63, 87), (65, 72, 97)]\n"
          ]
        }
      ]
    },
    {
      "cell_type": "markdown",
      "source": [
        "## 33. Develop a program that generates a list of all possible combinations of two lists using list comprehension."
      ],
      "metadata": {
        "id": "LNYRcGYa80yG"
      }
    },
    {
      "cell_type": "code",
      "source": [
        "def combinations(list1, list2):\n",
        "  return [[a, b] for a in list1 for b in list2]\n",
        "\n",
        "print(combinations([1, 2, 3], ['a', 'b', 'c']))"
      ],
      "metadata": {
        "colab": {
          "base_uri": "https://localhost:8080/"
        },
        "id": "tQpSeuI1847e",
        "outputId": "6d4db603-c623-45b4-864f-65223e607ddd"
      },
      "execution_count": null,
      "outputs": [
        {
          "output_type": "stream",
          "name": "stdout",
          "text": [
            "[[1, 'a'], [1, 'b'], [1, 'c'], [2, 'a'], [2, 'b'], [2, 'c'], [3, 'a'], [3, 'b'], [3, 'c']]\n"
          ]
        }
      ]
    },
    {
      "cell_type": "markdown",
      "source": [
        "## 34. Write a program that calculates the mean, median, and mode of a list of numbers using list\n",
        "## comprehension."
      ],
      "metadata": {
        "id": "Gp1lTSJq9v0C"
      }
    },
    {
      "cell_type": "code",
      "execution_count": null,
      "metadata": {
        "colab": {
          "base_uri": "https://localhost:8080/"
        },
        "outputId": "478e7c06-ab7a-49b0-f3ed-7b5d9ba7c3d6",
        "id": "B77uhy219whd"
      },
      "outputs": [
        {
          "output_type": "stream",
          "name": "stdout",
          "text": [
            "mean: [5.5]\n",
            "median: 6\n",
            "mode: 1\n"
          ]
        }
      ],
      "source": [
        "lst = [1,2,3,4,5,6,7,8,9,10]\n",
        "\n",
        "#for mean - by using formula mean = sum of the values/total no. of values\n",
        "\n",
        "mean = [sum(lst)/len(lst)]\n",
        "\n",
        "print('mean:',mean)\n",
        "\n",
        "#for median\n",
        "\n",
        "def median(lst):\n",
        "\n",
        "  return sorted(lst)[len(lst)//2]\n",
        "\n",
        "print( 'median:' ,median([1,2,3,4,5,6,7,8,9,10]))\n",
        "\n",
        "#for mode\n",
        "\n",
        "import statistics\n",
        "\n",
        "mode = statistics.mode(range(1,11))\n",
        "\n",
        "print('mode:' , mode)\n",
        "\n"
      ]
    },
    {
      "cell_type": "markdown",
      "source": [
        "## 35. Create a program that generates Pascal's triangle up to a specified number of rows using list\n",
        "## comprehension."
      ],
      "metadata": {
        "id": "Yz_TdHpl8ZWd"
      }
    },
    {
      "cell_type": "code",
      "source": [
        "def pascal_triangle(n):\n",
        "  triangle = [[1] * (i + 1) for i in range(n)]\n",
        "  for i in range(1, n):\n",
        "    for j in range(1, i):\n",
        "      triangle[i][j] = triangle[i - 1][j - 1] + triangle[i - 1][j]\n",
        "  return triangle\n",
        "\n",
        "print(pascal_triangle(5))"
      ],
      "metadata": {
        "colab": {
          "base_uri": "https://localhost:8080/"
        },
        "id": "IH4OUcBX8eG4",
        "outputId": "5a1cf365-97eb-4a11-a950-88a842371910"
      },
      "execution_count": null,
      "outputs": [
        {
          "output_type": "stream",
          "name": "stdout",
          "text": [
            "[[1], [1, 1], [1, 2, 1], [1, 3, 3, 1], [1, 4, 6, 4, 1]]\n"
          ]
        }
      ]
    },
    {
      "cell_type": "markdown",
      "source": [
        "## 36. Develop a program that calculates the sum of the digits of a factorial of numbers from 1 to 5 using list\n",
        "## comprehension."
      ],
      "metadata": {
        "id": "injx28rS4Ypq"
      }
    },
    {
      "cell_type": "code",
      "source": [
        "import math\n",
        "\n",
        "math_module = sum([sum(int(i) for i in str(math.factorial(n))) for n in range(1, 6)])"
      ],
      "metadata": {
        "id": "9ZOq5daz5ay8"
      },
      "execution_count": null,
      "outputs": []
    },
    {
      "cell_type": "code",
      "source": [
        "math_module"
      ],
      "metadata": {
        "colab": {
          "base_uri": "https://localhost:8080/"
        },
        "id": "nukEXi8Z6S3y",
        "outputId": "255af46d-d500-4ad4-8097-5ccb6a2364e9"
      },
      "execution_count": null,
      "outputs": [
        {
          "output_type": "execute_result",
          "data": {
            "text/plain": [
              "18"
            ]
          },
          "metadata": {},
          "execution_count": 19
        }
      ]
    },
    {
      "cell_type": "markdown",
      "source": [
        "## 37. Write a program that finds the longest word in a sentence using list comprehension."
      ],
      "metadata": {
        "id": "IFRjiIA63YEo"
      }
    },
    {
      "cell_type": "code",
      "source": [
        "sentence = \"This is a sentence.\"\n",
        "longest_word = max(sentence.split(), key=len)\n",
        "print(longest_word)"
      ],
      "metadata": {
        "colab": {
          "base_uri": "https://localhost:8080/"
        },
        "id": "SqUKI3oP3ld_",
        "outputId": "45e5cf03-c1be-4b6c-9660-8b9e2a245c9b"
      },
      "execution_count": null,
      "outputs": [
        {
          "output_type": "stream",
          "name": "stdout",
          "text": [
            "sentence.\n"
          ]
        }
      ]
    },
    {
      "cell_type": "markdown",
      "source": [
        "## 38. Create a program that filters a list of strings to include only those with more than three vowels using list\n",
        "## comprehension."
      ],
      "metadata": {
        "id": "HDB60eWF7M_p"
      }
    },
    {
      "cell_type": "code",
      "source": [
        "def vowels_check(word):\n",
        "    vowels = 'aeiouAEIOU'\n",
        "    count = 0\n",
        "    for vowel in vowels:\n",
        "        count += word.count(vowel)\n",
        "    if count > 3: return True\n",
        "    return False\n",
        "\n",
        "fruits = ['mango', 'kiwi', 'strawberry', 'guava', 'pineapple', 'mandarin orange']\n",
        "fruits_with_more_than_two_vowels = [fruit for fruit in fruits if vowels_check(fruit)]"
      ],
      "metadata": {
        "id": "0Lha1X003s8v"
      },
      "execution_count": null,
      "outputs": []
    },
    {
      "cell_type": "code",
      "source": [
        "fruits_with_more_than_two_vowels"
      ],
      "metadata": {
        "colab": {
          "base_uri": "https://localhost:8080/"
        },
        "id": "1YlFxAL83wpg",
        "outputId": "f65dbb2c-f5c6-4e83-8376-63aee9bda426"
      },
      "execution_count": null,
      "outputs": [
        {
          "output_type": "execute_result",
          "data": {
            "text/plain": [
              "['pineapple', 'mandarin orange']"
            ]
          },
          "metadata": {},
          "execution_count": 6
        }
      ]
    },
    {
      "cell_type": "markdown",
      "source": [
        "## 39. Develop a program that calculates the sum of the digits of numbers from 1 to 1000 using list\n",
        "## comprehension."
      ],
      "metadata": {
        "id": "6O6E0LQt4O6e"
      }
    },
    {
      "cell_type": "code",
      "source": [
        "sum_of_digits = sum([sum(map(int, str(i))) for i in range(1, 1001)])\n",
        "print(sum_of_digits)"
      ],
      "metadata": {
        "id": "wymoIHiP3R2L",
        "outputId": "83c85c02-215c-4cf3-8549-3c5e55b1cf81",
        "colab": {
          "base_uri": "https://localhost:8080/"
        }
      },
      "execution_count": null,
      "outputs": [
        {
          "output_type": "stream",
          "name": "stdout",
          "text": [
            "13501\n"
          ]
        }
      ]
    }
  ],
  "metadata": {
    "colab": {
      "provenance": []
    },
    "kernelspec": {
      "display_name": "Python 3",
      "name": "python3"
    },
    "language_info": {
      "name": "python"
    }
  },
  "nbformat": 4,
  "nbformat_minor": 0
}